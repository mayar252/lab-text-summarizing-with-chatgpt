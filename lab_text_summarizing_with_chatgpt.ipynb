{
  "cells": [
    {
      "cell_type": "markdown",
      "metadata": {
        "id": "p0PCHLhuS3rf"
      },
      "source": [
        "# Text summarizing with ChaptGPT\n",
        "In this lesson, you will summarize text with a focus on specific topics.\n",
        "\n",
        "## Setup"
      ]
    },
    {
      "cell_type": "code",
      "execution_count": 1,
      "metadata": {
        "tags": [],
        "id": "C8jDLXsbS3rg"
      },
      "outputs": [],
      "source": [
        "from openai import OpenAI\n",
        "import os\n",
        "\n",
        "from dotenv import load_dotenv, find_dotenv\n",
        "_ = load_dotenv(find_dotenv()) # read local .env file\n",
        "\n",
        "OPENAI_API_KEY  = os.getenv('OPENAI_API_KEY')"
      ]
    },
    {
      "cell_type": "code",
      "execution_count": 2,
      "metadata": {
        "tags": [],
        "id": "8e0EeYj6S3rh"
      },
      "outputs": [],
      "source": [
        "client = OpenAI(\n",
        "    # This is the default and can be omitted\n",
        "    api_key=OPENAI_API_KEY,\n",
        ")\n",
        "\n",
        "\n",
        "def get_completion(prompt, model=\"gpt-3.5-turbo\"): # Andrew mentioned that the prompt/ completion paradigm is preferable for this class\n",
        "    messages = [{\"role\": \"user\", \"content\": prompt}]\n",
        "    response = client.chat.completions.create(\n",
        "        model=model,\n",
        "        messages=messages,\n",
        "        temperature=0, # this is the degree of randomness of the model's output\n",
        "    )\n",
        "    return response.choices[0].message.content\n"
      ]
    },
    {
      "cell_type": "markdown",
      "metadata": {
        "id": "PsX4513uS3rh"
      },
      "source": [
        "## Text to summarize"
      ]
    },
    {
      "cell_type": "code",
      "execution_count": 3,
      "metadata": {
        "tags": [],
        "id": "A2F63v75S3ri"
      },
      "outputs": [],
      "source": [
        "prod_review = \"\"\"\n",
        "Got this panda plush toy for my daughter's birthday, \\\n",
        "who loves it and takes it everywhere. It's soft and \\\n",
        "super cute, and its face has a friendly look. It's \\\n",
        "a bit small for what I paid though. I think there \\\n",
        "might be other options that are bigger for the \\\n",
        "same price. It arrived a day earlier than expected, \\\n",
        "so I got to play with it myself before I gave it \\\n",
        "to her.\n",
        "\"\"\""
      ]
    },
    {
      "cell_type": "markdown",
      "metadata": {
        "id": "dW6WsV-HS3ri"
      },
      "source": [
        "## Summarize with a word/sentence/character limit"
      ]
    },
    {
      "cell_type": "code",
      "execution_count": 4,
      "metadata": {
        "tags": [],
        "colab": {
          "base_uri": "https://localhost:8080/"
        },
        "id": "qZgfAhTjS3ri",
        "outputId": "0bb46007-0055-4eb2-c97e-8ec442962516"
      },
      "outputs": [
        {
          "output_type": "stream",
          "name": "stdout",
          "text": [
            "Summary: \n",
            "Soft and cute panda plush toy loved by daughter, but smaller than expected for the price. Arrived early, allowing for personal enjoyment before gifting.\n"
          ]
        }
      ],
      "source": [
        "prompt = f\"\"\"\n",
        "Your task is to generate a short summary of a product \\\n",
        "review from an ecommerce site.\n",
        "\n",
        "Summarize the review below, delimited by triple\n",
        "backticks, in at most 30 words.\n",
        "\n",
        "Review: ```{prod_review}```\n",
        "\"\"\"\n",
        "\n",
        "response = get_completion(prompt)\n",
        "print(response)\n"
      ]
    },
    {
      "cell_type": "markdown",
      "metadata": {
        "id": "Ib3CLELKS3rj"
      },
      "source": [
        "## Summarize with a focus on shipping and delivery"
      ]
    },
    {
      "cell_type": "code",
      "execution_count": 5,
      "metadata": {
        "tags": [],
        "colab": {
          "base_uri": "https://localhost:8080/"
        },
        "id": "Xo-BwPqUS3rj",
        "outputId": "386c0d49-f738-4762-ecbf-f3fb542417ca"
      },
      "outputs": [
        {
          "output_type": "stream",
          "name": "stdout",
          "text": [
            "The customer was pleased with the early delivery of the panda plush toy, but felt it was slightly small for the price paid.\n"
          ]
        }
      ],
      "source": [
        "prompt = f\"\"\"\n",
        "Your task is to generate a short summary of a product \\\n",
        "review from an ecommerce site to give feedback to the \\\n",
        "Shipping deparmtment.\n",
        "\n",
        "Summarize the review below, delimited by triple\n",
        "backticks, in at most 30 words, and focusing on any aspects \\\n",
        "that mention shipping and delivery of the product.\n",
        "\n",
        "Review: ```{prod_review}```\n",
        "\"\"\"\n",
        "\n",
        "response = get_completion(prompt)\n",
        "print(response)\n"
      ]
    },
    {
      "cell_type": "markdown",
      "metadata": {
        "id": "BDdApi5sS3rk"
      },
      "source": [
        "## Summarize with a focus on price and value"
      ]
    },
    {
      "cell_type": "code",
      "execution_count": 6,
      "metadata": {
        "tags": [],
        "colab": {
          "base_uri": "https://localhost:8080/"
        },
        "id": "nSfDl-_aS3rk",
        "outputId": "efc36834-ee6d-4e26-b7bb-d4cf771723b5"
      },
      "outputs": [
        {
          "output_type": "stream",
          "name": "stdout",
          "text": [
            "The panda plush toy is loved for its softness and cuteness, but some customers feel it's a bit small for the price.\n"
          ]
        }
      ],
      "source": [
        "prompt = f\"\"\"\n",
        "Your task is to generate a short summary of a product \\\n",
        "review from an ecommerce site to give feedback to the \\\n",
        "pricing deparmtment, responsible for determining the \\\n",
        "price of the product.\n",
        "\n",
        "Summarize the review below, delimited by triple\n",
        "backticks, in at most 30 words, and focusing on any aspects \\\n",
        "that are relevant to the price and perceived value.\n",
        "\n",
        "Review: ```{prod_review}```\n",
        "\"\"\"\n",
        "\n",
        "response = get_completion(prompt)\n",
        "print(response)\n"
      ]
    },
    {
      "cell_type": "markdown",
      "metadata": {
        "id": "vPIdwXQpS3rk"
      },
      "source": [
        "#### Comment\n",
        "- Summaries include topics that are not related to the topic of focus."
      ]
    },
    {
      "cell_type": "markdown",
      "metadata": {
        "id": "xb3cYZdSS3rk"
      },
      "source": [
        "## Try \"extract\" instead of \"summarize\""
      ]
    },
    {
      "cell_type": "code",
      "execution_count": 7,
      "metadata": {
        "tags": [],
        "colab": {
          "base_uri": "https://localhost:8080/"
        },
        "id": "Yhs0a-oJS3rl",
        "outputId": "9a0e4b35-6312-4bb4-ee21-21e07b96c6d4"
      },
      "outputs": [
        {
          "output_type": "stream",
          "name": "stdout",
          "text": [
            "Feedback: The product arrived a day earlier than expected, allowing the customer to play with it before giving it as a gift.\n"
          ]
        }
      ],
      "source": [
        "prompt = f\"\"\"\n",
        "Your task is to extract relevant information from \\\n",
        "a product review from an ecommerce site to give \\\n",
        "feedback to the Shipping department.\n",
        "\n",
        "From the review below, delimited by triple quotes \\\n",
        "extract the information relevant to shipping and \\\n",
        "delivery. Limit to 30 words.\n",
        "\n",
        "Review: ```{prod_review}```\n",
        "\"\"\"\n",
        "\n",
        "response = get_completion(prompt)\n",
        "print(response)"
      ]
    },
    {
      "cell_type": "markdown",
      "metadata": {
        "id": "Z416dKiES3rl"
      },
      "source": [
        "## Summarize multiple product reviews"
      ]
    },
    {
      "cell_type": "code",
      "execution_count": 8,
      "metadata": {
        "tags": [],
        "id": "KFByDqDGS3rl"
      },
      "outputs": [],
      "source": [
        "\n",
        "review_1 = prod_review\n",
        "\n",
        "# review for a standing lamp\n",
        "review_2 = \"\"\"\n",
        "Needed a nice lamp for my bedroom, and this one \\\n",
        "had additional storage and not too high of a price \\\n",
        "point. Got it fast - arrived in 2 days. The string \\\n",
        "to the lamp broke during the transit and the company \\\n",
        "happily sent over a new one. Came within a few days \\\n",
        "as well. It was easy to put together. Then I had a \\\n",
        "missing part, so I contacted their support and they \\\n",
        "very quickly got me the missing piece! Seems to me \\\n",
        "to be a great company that cares about their customers \\\n",
        "and products.\n",
        "\"\"\"\n",
        "\n",
        "# review for an electric toothbrush\n",
        "review_3 = \"\"\"\n",
        "My dental hygienist recommended an electric toothbrush, \\\n",
        "which is why I got this. The battery life seems to be \\\n",
        "pretty impressive so far. After initial charging and \\\n",
        "leaving the charger plugged in for the first week to \\\n",
        "condition the battery, I've unplugged the charger and \\\n",
        "been using it for twice daily brushing for the last \\\n",
        "3 weeks all on the same charge. But the toothbrush head \\\n",
        "is too small. I’ve seen baby toothbrushes bigger than \\\n",
        "this one. I wish the head was bigger with different \\\n",
        "length bristles to get between teeth better because \\\n",
        "this one doesn’t.  Overall if you can get this one \\\n",
        "around the $50 mark, it's a good deal. The manufactuer's \\\n",
        "replacements heads are pretty expensive, but you can \\\n",
        "get generic ones that're more reasonably priced. This \\\n",
        "toothbrush makes me feel like I've been to the dentist \\\n",
        "every day. My teeth feel sparkly clean!\n",
        "\"\"\"\n",
        "\n",
        "# review for a blender\n",
        "review_4 = \"\"\"\n",
        "So, they still had the 17 piece system on seasonal \\\n",
        "sale for around $49 in the month of November, about \\\n",
        "half off, but for some reason (call it price gouging) \\\n",
        "around the second week of December the prices all went \\\n",
        "up to about anywhere from between $70-$89 for the same \\\n",
        "system. And the 11 piece system went up around $10 or \\\n",
        "so in price also from the earlier sale price of $29. \\\n",
        "So it looks okay, but if you look at the base, the part \\\n",
        "where the blade locks into place doesn’t look as good \\\n",
        "as in previous editions from a few years ago, but I \\\n",
        "plan to be very gentle with it (example, I crush \\\n",
        "very hard items like beans, ice, rice, etc. in the \\\n",
        "blender first then pulverize them in the serving size \\\n",
        "I want in the blender then switch to the whipping \\\n",
        "blade for a finer flour, and use the cross cutting blade \\\n",
        "first when making smoothies, then use the flat blade \\\n",
        "if I need them finer/less pulpy). Special tip when making \\\n",
        "smoothies, finely cut and freeze the fruits and \\\n",
        "vegetables (if using spinach-lightly stew soften the \\\n",
        "spinach then freeze until ready for use-and if making \\\n",
        "sorbet, use a small to medium sized food processor) \\\n",
        "that you plan to use that way you can avoid adding so \\\n",
        "much ice if at all-when making your smoothie. \\\n",
        "After about a year, the motor was making a funny noise. \\\n",
        "I called customer service but the warranty expired \\\n",
        "already, so I had to buy another one. FYI: The overall \\\n",
        "quality has gone done in these types of products, so \\\n",
        "they are kind of counting on brand recognition and \\\n",
        "consumer loyalty to maintain sales. Got it in about \\\n",
        "two days.\n",
        "\"\"\"\n",
        "\n",
        "reviews = [review_1, review_2, review_3, review_4]"
      ]
    },
    {
      "cell_type": "code",
      "execution_count": 9,
      "metadata": {
        "tags": [],
        "colab": {
          "base_uri": "https://localhost:8080/"
        },
        "id": "snF5TCzeS3rm",
        "outputId": "f44f8a96-d051-4ace-9d63-e6f10a4cfc32"
      },
      "outputs": [
        {
          "output_type": "stream",
          "name": "stdout",
          "text": [
            "0 Summary: \n",
            "Adorable panda plush loved by daughter, soft and cute, but smaller than expected for the price. Arrived early. \n",
            "\n",
            "1 Great lamp with storage, fast delivery, excellent customer service for missing parts. Easy to assemble. \n",
            "\n",
            "2 Impressive battery life, small brush head, good deal for $50, generic replacement heads available, leaves teeth feeling clean. \n",
            "\n",
            "3 17-piece system on sale for $49, prices increased later, base quality not as good, motor issues after a year. \n",
            "\n"
          ]
        }
      ],
      "source": [
        "for i in range(len(reviews)):\n",
        "    prompt = f\"\"\"\n",
        "    Your task is to generate a short summary of a product \\\n",
        "    review from an ecommerce site.\n",
        "\n",
        "    Summarize the review below, delimited by triple \\\n",
        "    backticks in at most 20 words.\n",
        "\n",
        "    Review: ```{reviews[i]}```\n",
        "    \"\"\"\n",
        "\n",
        "    response = get_completion(prompt)\n",
        "    print(i, response, \"\\n\")"
      ]
    },
    {
      "cell_type": "markdown",
      "metadata": {
        "id": "rqxc92G_S3rm"
      },
      "source": [
        "# Exercise\n",
        " - Complete the prompts similar to what we did in class.\n",
        "     - Try at least 3 versions\n",
        "     - Be creative\n",
        " - Write a one page report summarizing your findings.\n",
        "     - Were there variations that didn't work well? i.e., where GPT either hallucinated or wrong\n",
        " - What did you learn?"
      ]
    },
    {
      "cell_type": "code",
      "execution_count": 11,
      "metadata": {
        "colab": {
          "base_uri": "https://localhost:8080/"
        },
        "id": "u9DnxrpLS3rm",
        "outputId": "3c4fac2a-903e-49cf-a192-817cee766a9b"
      },
      "outputs": [
        {
          "output_type": "stream",
          "name": "stdout",
          "text": [
            "Executive Summary: The panda plush toy received positive feedback for its softness and cuteness, with a friendly face. However, the reviewer felt it was slightly small for the price paid, suggesting better value options may be available. Early delivery was a bonus.\n"
          ]
        }
      ],
      "source": [
        "#Executive Summary for Business Reports 📊\n",
        "def get_executive_summary(review_text):\n",
        "    prompt = f\"\"\"\n",
        "    Provide a **formal executive summary** of the following product review.\n",
        "    Focus on key insights relevant to product quality, customer satisfaction, and value for money.\n",
        "    Keep it under 50 words.\n",
        "\n",
        "    Review: ```{review_text}```\n",
        "    \"\"\"\n",
        "    response = client.chat.completions.create(\n",
        "        model=\"gpt-3.5-turbo\",\n",
        "        messages=[{\"role\": \"user\", \"content\": prompt}],\n",
        "        temperature=0.3,\n",
        "    )\n",
        "    return response.choices[0].message.content\n",
        "\n",
        "executive_summary = get_executive_summary(prod_review)\n",
        "print(\"Executive Summary:\", executive_summary)\n"
      ]
    },
    {
      "cell_type": "code",
      "source": [
        "#Market Research Summary for Product Strategy 🔍\n",
        "def get_market_research_summary(review_text):\n",
        "    prompt = f\"\"\"\n",
        "    Summarize the following product review with a **market research focus**.\n",
        "    Highlight customer expectations, product strengths, and potential improvement areas.\n",
        "    Keep it under 50 words.\n",
        "\n",
        "    Review: ```{review_text}```\n",
        "    \"\"\"\n",
        "    response = client.chat.completions.create(\n",
        "        model=\"gpt-3.5-turbo\",\n",
        "        messages=[{\"role\": \"user\", \"content\": prompt}],\n",
        "        temperature=0.3,\n",
        "    )\n",
        "    return response.choices[0].message.content\n",
        "\n",
        "market_research_summary = get_market_research_summary(prod_review)\n",
        "print(\"Market Research Summary:\", market_research_summary)\n"
      ],
      "metadata": {
        "colab": {
          "base_uri": "https://localhost:8080/"
        },
        "id": "lFiVpX-5UzFg",
        "outputId": "e4abdc6d-3888-489d-f377-a24189f62e6b"
      },
      "execution_count": 12,
      "outputs": [
        {
          "output_type": "stream",
          "name": "stdout",
          "text": [
            "Market Research Summary: Customers expect cute and soft plush toys. This panda toy meets expectations with its friendly face and early delivery. However, customers desire larger sizes for the price paid. Market research could explore offering different size options at competitive prices.\n"
          ]
        }
      ]
    },
    {
      "cell_type": "code",
      "source": [
        "#Customer Satisfaction Report Summary 📈\n",
        "def get_customer_satisfaction_summary(review_text):\n",
        "    prompt = f\"\"\"\n",
        "    Generate a **customer satisfaction analysis** based on the following product review.\n",
        "    Include sentiment analysis and key takeaways. Keep it under 50 words.\n",
        "\n",
        "    Review: ```{review_text}```\n",
        "    \"\"\"\n",
        "    response = client.chat.completions.create(\n",
        "        model=\"gpt-3.5-turbo\",\n",
        "        messages=[{\"role\": \"user\", \"content\": prompt}],\n",
        "        temperature=0.3,\n",
        "    )\n",
        "    return response.choices[0].message.content\n",
        "\n",
        "csat_summary = get_customer_satisfaction_summary(prod_review)\n",
        "print(\"Customer Satisfaction Summary:\", csat_summary)\n"
      ],
      "metadata": {
        "colab": {
          "base_uri": "https://localhost:8080/"
        },
        "id": "kbRIB4uUUyjd",
        "outputId": "3125c4fc-7584-480e-eca7-7ff63f85cea0"
      },
      "execution_count": 13,
      "outputs": [
        {
          "output_type": "stream",
          "name": "stdout",
          "text": [
            "Customer Satisfaction Summary: Overall, the customer is satisfied with the panda plush toy's quality and appearance. However, they feel it is slightly overpriced for its size and wish there were larger options available for the same price. The early delivery was a pleasant surprise.\n"
          ]
        }
      ]
    },
    {
      "cell_type": "markdown",
      "source": [
        "**Report on AI-Generated Summaries for Product Reviews**\n",
        "\n",
        "**Objective**  \n",
        "The goal of this project was to test different AI-generated summarization techniques tailored for business applications, including executive reports, customer satisfaction insights, and market research analysis. Using GPT-3.5, we implemented three structured summary formats to extract key insights from customer reviews effectively.\n",
        "\n",
        "**Findings**  \n",
        "Each summarization method provided unique perspectives on customer feedback:\n",
        "\n",
        "1. **Executive Summary**: This approach successfully captured product quality, pricing concerns, and delivery efficiency in a structured and concise format. It was well-suited for high-level business decision-making.\n",
        "   \n",
        "2. **Customer Satisfaction Summary**: This summary effectively incorporated sentiment analysis and key customer experience insights. It highlighted strengths and areas for improvement, making it valuable for customer service teams.\n",
        "   \n",
        "3. **Market Research Summary**: This method provided insights into customer expectations, product competitiveness, and potential strategic adjustments. It was particularly useful for product development and pricing strategy discussions.\n",
        "\n",
        "**Challenges and Observations**  \n",
        "- **Hallucinations**: While most outputs were accurate, in some cases, the model inferred details not explicitly stated in the review. For example, in the market research summary, it suggested “competitor benchmarking,” even though no competitor was mentioned in the original review.\n",
        "- **Word Limit Constraints**: Short summaries sometimes omitted critical details. Adjusting the word count dynamically based on review complexity could improve accuracy.\n",
        "- **Repetition**: Some responses used similar phrasing across different formats. More variation in structure could enhance readability and differentiation among summary types.\n",
        "\n",
        "**Lessons Learned**  \n",
        "- **Prompt Precision Matters**: Clearly defining focus areas (e.g., “extract” vs. “summarize”) led to more accurate responses.\n",
        "- **AI Summarization is a Strong Business Tool**: When guided correctly, AI can generate useful, structured insights that save time in analysis.\n",
        "- **Refinement is Necessary**: Post-processing and human review are still required to ensure factual accuracy and remove any hallucinated information.\n",
        "\n",
        "**Conclusion**  \n",
        "Overall, AI-generated summaries provide valuable insights for business use cases, but careful prompt engineering and review are essential to ensure accuracy. Future improvements could include dynamic word length adjustments and additional filtering to minimize hallucinations. AI-driven summarization holds significant potential for automating customer feedback analysis and strategic decision-making.\n",
        "\n"
      ],
      "metadata": {
        "id": "XxvcRZQPVwYx"
      }
    }
  ],
  "metadata": {
    "kernelspec": {
      "display_name": "Python 3 (ipykernel)",
      "language": "python",
      "name": "python3"
    },
    "language_info": {
      "codemirror_mode": {
        "name": "ipython",
        "version": 3
      },
      "file_extension": ".py",
      "mimetype": "text/x-python",
      "name": "python",
      "nbconvert_exporter": "python",
      "pygments_lexer": "ipython3",
      "version": "3.11.8"
    },
    "colab": {
      "provenance": []
    }
  },
  "nbformat": 4,
  "nbformat_minor": 0
}